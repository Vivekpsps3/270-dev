{
 "cells": [
  {
   "cell_type": "markdown",
   "metadata": {},
   "source": [
    "# Pre-Lab Submission 4\n",
    "### Due: Mon, 17 Feb 2025 07:30:00"
   ]
  },
  {
   "cell_type": "markdown",
   "metadata": {},
   "source": [
    "## Academic Honesty Statement\n",
    "By typing my name, below, I hereby certify that the work on this prelab is my own..."
   ]
  },
  {
   "cell_type": "code",
   "execution_count": null,
   "metadata": {},
   "outputs": [],
   "source": [
    "name = \"\"\n",
    "username = \"\""
   ]
  },
  {
   "cell_type": "markdown",
   "metadata": {},
   "source": [
    "## 1) Basic dataflow statements [10 points]\n",
    "For each problem, below, write a single Verilog statement to achieve the desired result in the context of the standard top module of the Verilog/FPGA simulator. Use the simulator to check your work. Remember that the operators are different than the ones you have studied with conventional Boolean expressions. They are more like the operators in C.\n"
   ]
  },
  {
   "cell_type": "markdown",
   "metadata": {},
   "source": [
    "### (a) Connect left[0] to a one-bit-wide binary logic high."
   ]
  },
  {
   "cell_type": "code",
   "execution_count": null,
   "metadata": {},
   "outputs": [],
   "source": [
    "left_0 = 1"
   ]
  },
  {
   "cell_type": "markdown",
   "metadata": {},
   "source": [
    "### (b) Connect left[1] to a one-bit-wide binary logic low."
   ]
  },
  {
   "cell_type": "code",
   "execution_count": null,
   "metadata": {},
   "outputs": [],
   "source": [
    "left_1 = 0"
   ]
  },
  {
   "cell_type": "markdown",
   "metadata": {},
   "source": [
    "### (c) Connect left[2] to pb[8]."
   ]
  },
  {
   "cell_type": "code",
   "execution_count": null,
   "metadata": {},
   "outputs": [],
   "source": [
    "left_2 = \"pb[8]\""
   ]
  },
  {
   "cell_type": "markdown",
   "metadata": {},
   "source": [
    "### (d) Connect left[3] to the complement of pb[9]."
   ]
  },
  {
   "cell_type": "code",
   "execution_count": null,
   "metadata": {},
   "outputs": [],
   "source": [
    "left_3 = \"~pb[9]\""
   ]
  },
  {
   "cell_type": "markdown",
   "metadata": {},
   "source": [
    "### (e) Connect left[4] to the Boolean product of pb[4] AND pb[5]."
   ]
  },
  {
   "cell_type": "code",
   "execution_count": null,
   "metadata": {},
   "outputs": [],
   "source": [
    "left_4 = \"pb[4] & pb[5]\""
   ]
  },
  {
   "cell_type": "markdown",
   "metadata": {},
   "source": [
    "### (f) Connect left[5] to the Boolean sum of pb[1] OR pb[2] OR pb[3]."
   ]
  },
  {
   "cell_type": "code",
   "execution_count": null,
   "metadata": {},
   "outputs": [],
   "source": [
    "left_5 = \"pb[1] | pb[2] | pb[3]\""
   ]
  },
  {
   "cell_type": "markdown",
   "metadata": {},
   "source": [
    "## 2) Translation of Boolean expressions [8 points]\n",
    "If you create a new module and add some assign statements, you can create a system that allows you to evaluate logical expressions. For instance, consider the following top-level module:\n",
    "\n",
    "    default_nettype none\n",
    "    module top (\n",
    "    // I/O ports\n",
    "    input  logic hz100, reset,\n",
    "    input  logic [20:0] pb,\n",
    "    output logic [7:0]  left, right,ss7, ss6, ss5, ss4, ss3, ss2, ss1, ss0,\n",
    "    output logic red, green, blue,\n",
    "    // UART ports\n",
    "    output logic [7:0] txdata,\n",
    "    input  logic [7:0] rxdata,\n",
    "    output logic txclk, rxclk,\n",
    "    input  logic txready, rxready\n",
    "    );\n",
    "\n",
    "    logic f0,f1,f2,f3,w,x,y,z; // The variables we want to use\n",
    "    assign right[3:0] = {f0,f1,f2,f3};  // Connect fx to right[3] ... right[0]\n",
    "    assign {w,x,y,z} = pb[3:0]; // w,x,y,z = pb[3],pb[2],pb[1],pb[0]\n",
    "\n",
    "    // Your assign statements here...\n",
    "\n",
    "endmodule\n",
    "In the place where it it says \"Your assign statements here...\" you may add statements that evaluate the inputs and activate the outputs as appropriate. For instance, if you were to insert the following statements:\n",
    "    assign f1 = x & ~z | ~w & x | ~w & y | y & ~z;\n",
    "    assign f2 = ~( ~x & ~y ) & ~( w & z );\n",
    "That would evaluate the equations from last week's lab on the right[2] and right[1] LED outputs. The inputs w,x,y,z would be represented by the push buttons labeled 3, 2, 1, and 0, respectively.\n",
    "\n",
    "(We might have used the ZYXW buttons on the top row to do this, but there are a few reasons why we'll avoid using these as logic inputs. When we're doing Karnaugh map simplification, it would be better if the buttons were in alphabetical order from left to right. Sorry!)\n",
    "\n",
    "In lab 3, you saw the equations written as\n",
    "    F1(W,X,Y,Z) = X·Z' + W'·X + W'·Y + Y·Z'\n",
    "    F2(W,X,Y,Z) = (X'·Y')' · (W·Z)'\n",
    "Translation of these Boolean expressions into Verilog syntax can cause students a great deal of trouble. The '*' and '+' operators used in traditional Boolean expressions are also operators in Verilog, but they don't do the same things as in Boolean logic. The negation operator '~' is a prefix operator instead of the postfix operator \"'\" in Boolean logic. Let's do some exercises to get you in the habit of translating from one version to the other.\n",
    "\n",
    "For each of the conventional Boolean logic statements, below, translate them into an assign statement that is appropriate for Verilog. Try them with the module shown above to make sure that they work. You do not need to simplify them, but the answer should be accepted if you do.\n"
   ]
  },
  {
   "cell_type": "markdown",
   "metadata": {},
   "source": [
    "Example: f0 = (w'*y')' * (x*z)'\n",
    "\n"
   ]
  },
  {
   "cell_type": "code",
   "execution_count": null,
   "metadata": {},
   "outputs": [],
   "source": [
    "f_ex = 'assign f_ex = ~( ~w & ~y ) & ~( x & z );'"
   ]
  },
  {
   "cell_type": "markdown",
   "metadata": {},
   "source": [
    "### 2a) f0 = w*x'*y*z' + w'*x*y'*z"
   ]
  },
  {
   "cell_type": "code",
   "execution_count": null,
   "metadata": {},
   "outputs": [],
   "source": [
    "f0 = \"\""
   ]
  },
  {
   "cell_type": "markdown",
   "metadata": {},
   "source": [
    "### 2b) f1 = (w*(x'*(y+z')'+x)'+w')'"
   ]
  },
  {
   "cell_type": "code",
   "execution_count": null,
   "metadata": {},
   "outputs": [],
   "source": [
    "f1 = \"\""
   ]
  },
  {
   "cell_type": "markdown",
   "metadata": {},
   "source": [
    "### 2c) f2 = ((w')'+(x*(y'+z')'+x'*(y+z')')'+w')'+(x*z')'"
   ]
  },
  {
   "cell_type": "code",
   "execution_count": null,
   "metadata": {},
   "outputs": [],
   "source": [
    "f2 = \"\""
   ]
  },
  {
   "cell_type": "markdown",
   "metadata": {},
   "source": [
    "### 2d) f3 = ((x'+w)'*y+z')'*(w+z')'+(y*(x'+z)*((y+z')*(x'+w)')'+z')"
   ]
  },
  {
   "cell_type": "code",
   "execution_count": null,
   "metadata": {},
   "outputs": [],
   "source": [
    "f3 = \"\""
   ]
  },
  {
   "cell_type": "markdown",
   "metadata": {},
   "source": [
    "## 3) Structural Gate Instantiation [8 points]\n",
    "Most of the arbitrary logic statements you write will be done with dataflow syntax. It is possible to do structural instantiation of basic gates. For the questions below, use an instance of an intrinsic (pre-defined) gate to connect the inputs and outputs with the specified operation. Note that, although SystemVerilog requires to name an instance of a custom module, you do not need to do with an intrinsic gate. Don't specify an instance name for each gate you instantiate below.\n"
   ]
  },
  {
   "cell_type": "markdown",
   "metadata": {},
   "source": [
    "Example: Connect right[0] to ~pb[1]\n"
   ]
  },
  {
   "cell_type": "code",
   "execution_count": null,
   "metadata": {},
   "outputs": [],
   "source": [
    "right_0 = \"not(right[0], pb[1]);\""
   ]
  },
  {
   "cell_type": "markdown",
   "metadata": {},
   "source": [
    "### 3a) Connect blue to (pb[0] & pb[1])"
   ]
  },
  {
   "cell_type": "code",
   "execution_count": null,
   "metadata": {},
   "outputs": [],
   "source": [
    "blue = \"\""
   ]
  },
  {
   "cell_type": "markdown",
   "metadata": {},
   "source": [
    "### 3b) Connect right[0] to ~(pb[0] | pb[1])"
   ]
  },
  {
   "cell_type": "code",
   "execution_count": null,
   "metadata": {},
   "outputs": [],
   "source": [
    "right_0 = \"\""
   ]
  },
  {
   "cell_type": "markdown",
   "metadata": {},
   "source": [
    "### 3c) Connect right[1] to ~(pb[0] & pb[1] & pb[2])"
   ]
  },
  {
   "cell_type": "code",
   "execution_count": null,
   "metadata": {},
   "outputs": [],
   "source": [
    "right_1 = \"\""
   ]
  },
  {
   "cell_type": "markdown",
   "metadata": {},
   "source": [
    "### 3d) Connect right[2] to (pb[0] | pb[1] | pb[2])"
   ]
  },
  {
   "cell_type": "code",
   "execution_count": null,
   "metadata": {},
   "outputs": [],
   "source": [
    "right_2 = \"\""
   ]
  },
  {
   "cell_type": "markdown",
   "metadata": {},
   "source": [
    "## 4) Custom Module Instantiation [2 points]\n",
    "Verilog would be very limited if you could only create dataflow equations and instantiate basic gates. To represent higher levels of abstraction, Verilog allows the creation of custom modules beyond the intrinsic gates built in to the language. These modules look like the 'top' module, and define inputs and outputs that are specialized for an intended purpose. Within the new module, inputs and output are connected by more dataflow statements or further structural instatiations of other intrinsic or custom modules.\n",
    "\n",
    "Consider the following example where the 'top' module creates an instance of the custom module named 'vote' which accepts three inputs and produces a one-bit result indicating the majority input type.\n",
    "\n",
    "    `default_nettype none\n",
    "    module top (\n",
    "    // I/O ports\n",
    "    input  logic hz100, reset,\n",
    "    input  logic [20:0] pb,\n",
    "    output logic [7:0]  left, right,ss7, ss6, ss5, ss4, ss3, ss2, ss1, ss0,\n",
    "    output logic red, green, blue,\n",
    "    // UART ports\n",
    "    output logic [7:0] txdata,\n",
    "    input  logic [7:0] rxdata,\n",
    "    output logic txclk, rxclk,\n",
    "    input  logic txready, rxready\n",
    "    );\n",
    "\n",
    "    vote v1 (red, pb[2], pb[1], pb[0]);\n",
    "\n",
    "    endmodule\n",
    "\n",
    "    module vote(output logic majority, input logic in2, in1, in0);\n",
    "    // If any two inputs are '1', the output should be '1'.\n",
    "    assign majority = in2 & in1 | in1 & in0 | in2 & in0;\n",
    "    endmodule\n",
    "\n",
    "This instantiation of 'vote' uses an order-based scheme to associate the signals red and pb[2:0] to the ports of the new instance of the vote module.\n",
    "\n",
    "In the space below, rewrite the instantiation of the module. Use an instance name of 'v2', and make the port assignments name-based.\n"
   ]
  },
  {
   "cell_type": "markdown",
   "metadata": {},
   "source": [
    "### Instance of 'vote' with name-based port assignment"
   ]
  },
  {
   "cell_type": "code",
   "execution_count": null,
   "metadata": {},
   "outputs": [],
   "source": [
    "vote_instance_v2 = \"\""
   ]
  },
  {
   "cell_type": "markdown",
   "metadata": {},
   "source": [
    "## 5) Bus Port Association [2 points]"
   ]
  },
  {
   "cell_type": "markdown",
   "metadata": {},
   "source": [
    "### Instance of 'vote' with bus input and name-based assignment\n",
    "For the previous question, write an instantiation of the 'vote' module if its inputs were organized into a three-bit bus instead of three separate signals. The new module is shown below:\n",
    "\n",
    "    module vote(output logic majority, input logic [2:0]in);\n",
    "    // If any two inputs are '1', the output should be '1'.\n",
    "    assign majority = in[2] & in[1] | in[1] & in[0] | in[2] & in[0];\n",
    "    endmodule\n",
    "\n",
    "\n",
    "Use an instance name of 'v3'. Use a name-based port association. The end result is that connections should be made between in[2] and pb[2], in[1] and pb[1], and in[0] and pb[0]. The majority output should still be connected to the red signal.\n"
   ]
  },
  {
   "cell_type": "code",
   "execution_count": null,
   "metadata": {},
   "outputs": [],
   "source": [
    "vote_instance_v3 = \"\""
   ]
  },
  {
   "cell_type": "markdown",
   "metadata": {},
   "source": [
    "Since you now have access to the simulator, you may want to consider using it to just finish the entire lab, and then submit it in your postlab. That way, you can reopen the postlab during lab, and copy over your code into the file you'll be working on in lab.\n",
    "\n",
    "Make sure to carefully read the Prelab section of the document thoroughly for any assigned readings you may have.\n"
   ]
  },
  {
   "cell_type": "code",
   "execution_count": null,
   "metadata": {},
   "outputs": [],
   "source": [
    "import json\n",
    "\n",
    "variables_list = [\n",
    "    name, username,\n",
    "    left_0, left_1, left_2, left_3, left_4, left_5,\n",
    "    f_ex, f0, f1, f2, f3,\n",
    "    right_0, right_1, right_2,\n",
    "    blue, vote_instance_v2, vote_instance_v3\n",
    "]\n",
    "\n",
    "variables_json = json.dumps({\n",
    "    \"name\": name,\n",
    "    \"username\": username,\n",
    "    \"left_0\": left_0,\n",
    "    \"left_1\": left_1,\n",
    "    \"left_2\": left_2,\n",
    "    \"left_3\": left_3,\n",
    "    \"left_4\": left_4,\n",
    "    \"left_5\": left_5,\n",
    "    \"f_ex\": f_ex,\n",
    "    \"f0\": f0,\n",
    "    \"f1\": f1,\n",
    "    \"f2\": f2,\n",
    "    \"f3\": f3,\n",
    "    \"right_0\": right_0,\n",
    "    \"right_1\": right_1,\n",
    "    \"right_2\": right_2,\n",
    "    \"blue\": blue,\n",
    "    \"vote_instance_v2\": vote_instance_v2,\n",
    "    \"vote_instance_v3\": vote_instance_v3\n",
    "}, indent=4)\n",
    "\n",
    "with open('prelab4_output.json', 'w') as f:\n",
    "    f.write(variables_json)"
   ]
  }
 ],
 "metadata": {
  "kernelspec": {
   "display_name": "Python 3",
   "language": "python",
   "name": "python3"
  },
  "language_info": {
   "codemirror_mode": {
    "name": "ipython",
    "version": 3
   },
   "file_extension": ".py",
   "mimetype": "text/x-python",
   "name": "python",
   "nbconvert_exporter": "python",
   "pygments_lexer": "ipython3",
   "version": "3.8.5"
  }
 },
 "nbformat": 4,
 "nbformat_minor": 4
}
