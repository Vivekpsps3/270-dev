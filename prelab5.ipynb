{
  "cells": [
    {
      "cell_type": "markdown",
      "metadata": {},
      "source": [
        "# Pre-Lab Submission 5\n",
        "\n",
        "**Due: Mon, 24 Feb 2025 07:30:00 (approximately 5 days ago)**\n",
        "\n",
        "**Score: [36 points total] [100 penalties total] [0 penalties graded so far]**\n",
        "\n",
        "This lab is about implementing functions using decoders. For the actual lab experiment, you will use the [74HC138 3-to-8 decoder with active-low outputs](/ece270/refs/74hc138.pdf). For the prelab, you will model the work with SystemVerilog.\n",
        "\n",
        "Academic Honesty Statement [0 ... -100 points]\n",
        "By typing my name, below, I hereby certify that the work on this prelab is my own and that I have not copied the work of any other student (past or present) while completing it. I understand that if I fail to honor this agreement, I will receive a score of ZERO for the lab, a one letter drop in my final course grade, and be subject to possible disciplinary action.\n",
        "\n"
      ]
    },
    {
      "cell_type": "code",
      "execution_count": 1,
      "metadata": {},
      "outputs": [],
      "source": [
        "name = \"\"\n",
        "username = \"\""
      ]
    },
    {
      "cell_type": "markdown",
      "metadata": {},
      "source": [
        "## Implementing logic functions\n",
        "\n",
        "To implement logic functions, you must understand how a decoder works. Read the lecture on decoders on Brightspace, once it's been published. If we haven't reached that point in lecture yet, read Lecture 2-G from the [notes](/ece270/notes) page on the website. Either one should make clear that a _decoder_ is a mechanism for taking a binary encoded input and making the corresponding output active. In the case of a 3-to-8 decoder, the 3-bit input code can have one of eight combinations. The _number_ that the input represents causes the output number to be active. In this regard, the eight outputs can be thought of as the minterm number. For instance, if the input to a 3-to-8 decoder is 011, it represents the decimal number three. The output three represents minterm 3. If the inputs represent symbols X,Y, and Z, then a 011 input would represent the product term X'\\*Y\\*Z. Each output represents the AND of each relevant literal component. Output 3 represents the AND of X', Y, and Z.\n",
        "\n",
        "You know that a sum-of-products representation of a logic function is the OR of the constituent minterms. For example, the expression X'\\*Y\\*Z + X\\*Y'\\*Z + X\\*Y\\*Z corresponds to the logical sum of minterms 3, 5, and 7. A three-input OR gate connected to those outputs of the decoder would implement the function."
      ]
    },
    {
      "cell_type": "markdown",
      "metadata": {},
      "source": [
        "## Decoders with active-low outputs\n",
        "\n",
        "If an decoder with active-high outputs, as just described, whose outputs represent the AND of literal product elements, can be used with an OR gate to produce a sum-of-products expression, then we can use DeMorgan's Law to turn the AND-OR tree into a NAND-NAND tree. A decoder with inverted outputs can be thought of as a NAND of the literal product components. If another NAND is used to \"sum\" multiple outputs together, the result is the NAND-NAND equivalent of the sum-of-products expression.\n",
        "\n",
        "For the previous example, to implement X'\\*Y\\*Z + X\\*Y'\\*Z + X\\*Y\\*Z, we know that a 3-to-8 decoder with active-low outputs represents (X'\\*Y\\*Z)' with output 3, (X\\*Y'\\*Z)' with output 5, and (X\\*Y\\*Z)' with output 7. By using an enclosing NAND for all three terms, we get:\n",
        "\n",
        "**( (X'\\*Y\\*Z)' \\* (X\\*Y'\\*Z)' \\* (X\\*Y\\*Z)' )'**\n",
        "\n",
        "Which, by DeMorgan's Law is equivalent to: **(X'\\*Y\\*Z) + (X\\*Y'\\*Z) + (X\\*Y\\*Z)**"
      ]
    },
    {
      "cell_type": "markdown",
      "metadata": {},
      "source": [
        "## Implementing the complement of a function\n",
        "\n",
        "The complement of an expression can also be realized by using an AND gate instead of a NAND. **(Keep this in mind for the last three logic functions described below.)**"
      ]
    },
    {
      "cell_type": "markdown",
      "metadata": {},
      "source": [
        "## Details about the 74HC138\n",
        "\n",
        "The 74HC138 is a 3-to-8 decoder with active-low outputs, and it can be used in this manner. It also has three _enable_ inputs. All of these enable inputs must be properly set for any of the outputs to become active. Two of the enable inputs, e1 and e2, are active-low, and the third, e3, is active-high. For any output to be active (low) e1 and e2 must be low, and e3 must be high."
      ]
    },
    {
      "cell_type": "markdown",
      "metadata": {},
      "source": [
        "## Building a 4-to-16 decoder from two 74HC138 chips\n",
        "\n",
        "The three enable signals are arranged as they are to allow easy creation of a larger decoder. For instance, consider the case where two 74HC138 chips are used, with selection signals X,Y,Z connected to the 3 inputs of each. A fourth selection signal, W, could be added by connecting (0,W,1) to e1,e2,e3 of one chip, and connecting (0,0,W) to e1,e2,e3 of the second chip. This means that the first chip's outputs will be enabled when W is low (to make e2 active), and the second chip's outputs will be enabled when W is high (to make e3 active). The result is a 4-to-16 decoder, where the first chips eight outputs represent minterms 0 – 7, and the second chip's outputs represent minterms 8 – 15."
      ]
    },
    {
      "cell_type": "markdown",
      "metadata": {},
      "source": [
        "## Your logic functions for the lab experiment\n",
        "\n",
        "The logic functions you are to realize, for both this prelab as well as the lab are as follows:\n",
        "\n",
        "**F0(R,S,T,U) = R'·S'·T'·U + R'·S·T·U' + R'·S·T·U\n",
        "F1(R,S,T,U) = R'·S'·T·U' + R'·S·T'·U' + R·S·T'·U\n",
        "F2(R,S,T,U) = R'·S'·T'·U' + R'·S'·T·U + R·S'·T'·U\n",
        "F3(R,S,T,U) = R·S·T'·U' + R·S·T·U' + R·S·T·U\n",
        "F4(R,S,T,U) = R'·S·T'·U + R·S'·T·U' + R·S'·T·U\n",
        "F5(R,S,T,U) = R'·S'·T'·U' + R'·S'·T'·U + R'·S'·T·U' + R'·S'·T·U + R'·S·T'·U' + R'·S·T'·U + R'·S·T·U' + R'·S·T·U + R·S'·T'·U' + R·S'·T'·U + R·S·T'·U' + R·S·T'·U + R·S·T·U' + R·S·T·U\n",
        "F6(R,S,T,U) = R'·S'·T'·U' + R'·S'·T'·U + R'·S'·T·U' + R'·S'·T·U + R'·S·T'·U' + R'·S·T·U' + R'·S·T·U + R·S'·T'·U' + R·S'·T'·U + R·S'·T·U' + R·S'·T·U + R·S·T'·U + R·S·T·U' + R·S·T·U\n",
        "F7(R,S,T,U) = R'·S'·T'·U' + R'·S'·T'·U + R'·S'·T·U' + R'·S'·T·U + R'·S·T'·U' + R'·S·T'·U + R'·S·T·U' + R'·S·T·U + R·S'·T'·U' + R·S'·T'·U + R·S'·T·U' + R·S'·T·U + R·S·T'·U' + R·S·T'·U**\n",
        "\n",
        "To implement this, recognize that each constituent product term can be translated to a minterm number. For an active-low decoder, each result can be represented by the NAND of the inverted outputs. When there are many terms, the _complement_ of the function can be more easily implemented by using an AND gate.\n",
        "\n",
        "Implement these functions in the **`top`** module of your design as follows:\n",
        "\n",
        "* Use pb[3:0] represent R,S,T, and U, respectively.\n",
        "* Add the [SystemVerilog model of the 74HC138](/ece270/refs/hc138.sv) to your design. Create two instances of it, and wire their enable pins to form a 4-to-16 decoder.\n",
        "* Create a single 16-bit output bus named **`p`** (for **p**roduct terms) and connect the appropriate halves of it to the outputs of the hc138 instances.\n",
        "* Create dataflow expressions to form NAND expressions of the **`p`** elements. For each expression that has more than three product terms, implement it using an AND of the appropriate product terms.\n",
        "* Represent the F7, F6, ... F1, F0 results on right[7:0].\n",
        "\n",
        "Test your outputs to ensure that all eight outputs are activated for the proper combinations of buttons 3,2,1,0.\n",
        "\n",
        "Development hint: To get started, you may wish to wire the outputs of the two hc138 instances to {left,right} just to make sure that you have properly created a 4-to-16 decoder with active-low outputs. No matter what combinations buttons 3,2,1,0 are in, one and only one of the 16 left and right LEDs should be off for such a system. Be sure to disconnect the left and right LEDs before implementing your logic functions."
      ]
    },
    {
      "cell_type": "markdown",
      "metadata": {},
      "source": [
        "## Academic Honesty Statement [0 ... -100 points]\n",
        "\n",
        "By typing my name, below, I hereby certify that the work on this prelab is my own and that I have not copied the work of any other student (past or present) while completing it. I understand that if I fail to honor this agreement, I will receive a score of ZERO for the lab, a one letter drop in my final course grade, and be subject to possible disciplinary action.\n",
        "\n",
        "Make sure to check that your name matches the one in [lab homework 0.](?item=hw0)"
      ]
    },
    {
      "cell_type": "markdown",
      "metadata": {},
      "source": [
        "## 1) Implementing Boolean functions with decoders [16 points]\n",
        "\n",
        "Let's get started by writing the equations, using SystemVerilog dataflow syntax, for each of your functions, in terms of the **`p`** bus elements. For instance, if you wanted to realize\n",
        "\n",
        "**F0(R,S,T,U) = R'·S'·T'·U' + R'·S'·T'·U**\n",
        "\n",
        "you can determine that the two minterms are 0000 and 0001, respectively. The components of the active-low decoder to NAND together would be elements 0 and 1 of the p bus. This would be implemented with a dataflow NAND as\n",
        "\n",
        "**assign right[0] = ~( p[0] & p[1] );**\n",
        "\n",
        "Remember to use a dataflow AND to form the complement of any expressions with more than three terms."
      ]
    },
    {
      "cell_type": "code",
      "execution_count": 2,
      "metadata": {},
      "outputs": [],
      "source": [
        "assign_right_0 = \"\"\n",
        "assign_right_1 = \"\"\n",
        "assign_right_2 = \"\"\n",
        "assign_right_3 = \"\"\n",
        "assign_right_4 = \"\"\n",
        "assign_right_5 = \"\"\n",
        "assign_right_6 = \"\"\n",
        "assign_right_7 = \"\""
      ]
    },
    {
      "cell_type": "markdown",
      "metadata": {},
      "source": [
        "## 2) [20 points]\n",
        "\n",
        "Create a SystemVerilog file in the simulator, test it well, and upload it here. Include both the **top** and **hc138** module definitions. All of the statements to implement the specified functions should be in the **top** module.\n",
        "\n",
        "Are you ready to wire the lab experiment? Make sure you have two 74HC138 decoders, two 74HC10 triple 3-input NAND gate chips, and a 74HC08 AND gate chip. You will need 8 LEDs (of any color you like) to represent the outputs, and four push buttons to use as inputs. When you've tested your circuit, you will plug in the AD2 and use Autotest to evaluate it.\n",
        "\n",
        "Questions or comments about the course and/or the content of these webpages should be sent to the [Course Webmaster](mailto:ece270@ecn.purdue.edu). All the materials on this site are intended solely for the use of students enrolled in ECE 270 at the West Lafayette Campus of Purdue University. Downloading, copying, or reproducing any of the copyrighted materials posted on this site (documents or videos) for anything other than educational purposes is forbidden."
      ]
    },
    {
      "cell_type": "code",
      "execution_count": 3,
      "metadata": {},
      "outputs": [],
      "source": [
        "verilog_code = \"\"\"\n",
        "    module test(\n",
        "        input wire a,\n",
        "        input wire b,\n",
        "        output wire c\n",
        "    );\n",
        "    assign c = a & b;\n",
        "    endmodule\n",
        "\"\"\"\n"
      ]
    },
    {
      "cell_type": "code",
      "execution_count": 4,
      "metadata": {},
      "outputs": [],
      "source": [
        "import json\n",
        "\n",
        "variables_list = [\n",
        "    name, username,\n",
        "    assign_right_0, assign_right_1, assign_right_2, assign_right_3, assign_right_4, assign_right_5, assign_right_6, assign_right_7\n",
        "]\n",
        "\n",
        "variables_json = json.dumps({\n",
        "    \"name\": name,\n",
        "    \"username:\": username,\n",
        "    \"assign_right_0\": assign_right_0,\n",
        "    \"assign_right_1\": assign_right_1,\n",
        "    \"assign_right_2\": assign_right_2,\n",
        "    \"assign_right_3\": assign_right_3,\n",
        "    \"assign_right_4\": assign_right_4,\n",
        "    \"assign_right_5\": assign_right_5,\n",
        "    \"assign_right_6\": assign_right_6,\n",
        "    \"assign_right_7\": assign_right_7\n",
        "}, indent=4)\n",
        "\n",
        "with open('prelab5_output.json', 'w') as f:\n",
        "    f.write(variables_json)\n"
      ]
    }
  ],
  "metadata": {
    "kernelspec": {
      "display_name": ".venv",
      "language": "python",
      "name": "python3"
    },
    "language_info": {
      "codemirror_mode": {
        "name": "ipython",
        "version": 3
      },
      "file_extension": ".py",
      "mimetype": "text/x-python",
      "name": "python",
      "nbconvert_exporter": "python",
      "pygments_lexer": "ipython3",
      "version": "3.12.3"
    }
  },
  "nbformat": 4,
  "nbformat_minor": 4
}
